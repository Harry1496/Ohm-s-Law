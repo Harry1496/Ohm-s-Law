{
 "cells": [
  {
   "cell_type": "code",
   "execution_count": 30,
   "metadata": {},
   "outputs": [
    {
     "name": "stdout",
     "output_type": "stream",
     "text": [
      "    Series Circuit   \n",
      "\n",
      "R1 =  101.19 ± 1.22 Ohms\n",
      "R2 =  19.37 ± 1.22 Ohms\n",
      "R total =  121.34 ± 1.22 Ohms\n",
      "\n",
      "    Parallel Circuit\n",
      "R total =  18.16 ± 1.22 Ohms\n"
     ]
    }
   ],
   "source": [
    "import numpy as np\n",
    "\n",
    "def rule_1(c,A_err):\n",
    "    q = c * A_err\n",
    "    return q\n",
    "\n",
    "def rule_2(a,b,c,d):\n",
    "    q = abs(a * c * b**(c-1)) * d\n",
    "    return q\n",
    "    \n",
    "def rule_3(A_err,B_err):\n",
    "    q = np.sqrt(A_err**2 + B_err**2)\n",
    "    return q\n",
    "\n",
    "def rule_4(Q,A,A_err,m,B,B_err,n):\n",
    "    q_err = abs(Q)*np.sqrt((m*(A_err/A))**2+(n*(B_err/B))**2)\n",
    "    return q_err\n",
    "\n",
    "#Error analysis\n",
    "\n",
    "R1 = 2.56/(25.3/1000)\n",
    "R2 = 0.49/(25.3/1000)\n",
    "Rtotal = 3.07/25.3\n",
    "\n",
    "v_err1 = 0.015\n",
    "v_err2 = 0.00245\n",
    "c_err = 0.3036\n",
    "# c = current or I, meaning error in current(I)\n",
    "\n",
    "resistance_err1 = 0.8\n",
    "r_total = 3.07/(25.3/1000)\n",
    "\n",
    "err_r = rule_4(R1,2.56,v_err2,1,(25.3/1000),(0.3036/1000),-1)\n",
    "print('    Series Circuit   ')\n",
    "print('')\n",
    "print('R1 = ',f\"{R1:.02f} ± {err_r:.02f} Ohms\")\n",
    "print('R2 = ',f\"{R2:.02f} ± {err_r:.02f} Ohms\")\n",
    "print('R total = ',f\"{r_total:.02f} ± {err_r:.02f} Ohms\")\n",
    "print('')\n",
    "print('    Parallel Circuit')\n",
    "\n",
    "R3 = (2.70/((26.7+122)/1000))\n",
    "print('R total = ',f\"{R3:.02f} ± {err_r:.02f} Ohms\")\n",
    "\n"
   ]
  },
  {
   "cell_type": "code",
   "execution_count": null,
   "metadata": {},
   "outputs": [],
   "source": []
  }
 ],
 "metadata": {
  "kernelspec": {
   "display_name": "Python 3",
   "language": "python",
   "name": "python3"
  },
  "language_info": {
   "codemirror_mode": {
    "name": "ipython",
    "version": 3
   },
   "file_extension": ".py",
   "mimetype": "text/x-python",
   "name": "python",
   "nbconvert_exporter": "python",
   "pygments_lexer": "ipython3",
   "version": "3.8.3"
  }
 },
 "nbformat": 4,
 "nbformat_minor": 4
}
